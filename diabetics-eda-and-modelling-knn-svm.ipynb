{
 "cells": [
  {
   "cell_type": "markdown",
   "id": "cb77eaa3",
   "metadata": {
    "papermill": {
     "duration": 0.045574,
     "end_time": "2022-04-20T12:52:56.604182",
     "exception": false,
     "start_time": "2022-04-20T12:52:56.558608",
     "status": "completed"
    },
    "tags": []
   },
   "source": [
    "The following code is for Exploratory Data Analysis and modelling of the dataset which is originally from the National Institute of Diabetes and Digestive and Kidney Diseases. The objective of the dataset is to diagnostically predict whether or not a patient has diabetes, based on certain diagnostic measurements included in the dataset. Several constraints were placed on the selection of these instances from a larger database. In particular, all patients here are females at least 21 years old of Pima Indian heritage.\n",
    "\n",
    "The datasets consists of several medical predictor variables and one target variable, Outcome. Predictor variables includes the number of pregnancies the patient has had, their BMI, insulin level, age, and so on."
   ]
  },
  {
   "cell_type": "code",
   "execution_count": 1,
   "id": "62fbc997",
   "metadata": {
    "execution": {
     "iopub.execute_input": "2022-04-20T12:52:56.693701Z",
     "iopub.status.busy": "2022-04-20T12:52:56.692934Z",
     "iopub.status.idle": "2022-04-20T12:52:58.132134Z",
     "shell.execute_reply": "2022-04-20T12:52:58.131177Z"
    },
    "papermill": {
     "duration": 1.487439,
     "end_time": "2022-04-20T12:52:58.134713",
     "exception": false,
     "start_time": "2022-04-20T12:52:56.647274",
     "status": "completed"
    },
    "tags": []
   },
   "outputs": [],
   "source": [
    "import pandas as pd\n",
    "import numpy as np\n",
    "import seaborn as sns\n",
    "from sklearn.neighbors import KNeighborsClassifier\n",
    "import matplotlib.pyplot as plt\n",
    "from sklearn.model_selection import train_test_split\n",
    "from sklearn.svm import SVC\n",
    "from sklearn.preprocessing import StandardScaler\n",
    "from sklearn.metrics import confusion_matrix, accuracy_score"
   ]
  },
  {
   "cell_type": "markdown",
   "id": "54b41cd6",
   "metadata": {
    "papermill": {
     "duration": 0.042259,
     "end_time": "2022-04-20T12:52:58.222601",
     "exception": false,
     "start_time": "2022-04-20T12:52:58.180342",
     "status": "completed"
    },
    "tags": []
   },
   "source": [
    "Importing importing libraries and reading the csv file."
   ]
  },
  {
   "cell_type": "code",
   "execution_count": 2,
   "id": "81b3e9d7",
   "metadata": {
    "execution": {
     "iopub.execute_input": "2022-04-20T12:52:58.309112Z",
     "iopub.status.busy": "2022-04-20T12:52:58.308799Z",
     "iopub.status.idle": "2022-04-20T12:52:58.340490Z",
     "shell.execute_reply": "2022-04-20T12:52:58.339873Z"
    },
    "papermill": {
     "duration": 0.077882,
     "end_time": "2022-04-20T12:52:58.342950",
     "exception": false,
     "start_time": "2022-04-20T12:52:58.265068",
     "status": "completed"
    },
    "tags": []
   },
   "outputs": [
    {
     "data": {
      "text/html": [
       "<div>\n",
       "<style scoped>\n",
       "    .dataframe tbody tr th:only-of-type {\n",
       "        vertical-align: middle;\n",
       "    }\n",
       "\n",
       "    .dataframe tbody tr th {\n",
       "        vertical-align: top;\n",
       "    }\n",
       "\n",
       "    .dataframe thead th {\n",
       "        text-align: right;\n",
       "    }\n",
       "</style>\n",
       "<table border=\"1\" class=\"dataframe\">\n",
       "  <thead>\n",
       "    <tr style=\"text-align: right;\">\n",
       "      <th></th>\n",
       "      <th>Pregnancies</th>\n",
       "      <th>Glucose</th>\n",
       "      <th>BloodPressure</th>\n",
       "      <th>SkinThickness</th>\n",
       "      <th>Insulin</th>\n",
       "      <th>BMI</th>\n",
       "      <th>DiabetesPedigreeFunction</th>\n",
       "      <th>Age</th>\n",
       "      <th>Outcome</th>\n",
       "    </tr>\n",
       "  </thead>\n",
       "  <tbody>\n",
       "    <tr>\n",
       "      <th>0</th>\n",
       "      <td>6</td>\n",
       "      <td>148</td>\n",
       "      <td>72</td>\n",
       "      <td>35</td>\n",
       "      <td>0</td>\n",
       "      <td>33.6</td>\n",
       "      <td>0.627</td>\n",
       "      <td>50</td>\n",
       "      <td>1</td>\n",
       "    </tr>\n",
       "    <tr>\n",
       "      <th>1</th>\n",
       "      <td>1</td>\n",
       "      <td>85</td>\n",
       "      <td>66</td>\n",
       "      <td>29</td>\n",
       "      <td>0</td>\n",
       "      <td>26.6</td>\n",
       "      <td>0.351</td>\n",
       "      <td>31</td>\n",
       "      <td>0</td>\n",
       "    </tr>\n",
       "    <tr>\n",
       "      <th>2</th>\n",
       "      <td>8</td>\n",
       "      <td>183</td>\n",
       "      <td>64</td>\n",
       "      <td>0</td>\n",
       "      <td>0</td>\n",
       "      <td>23.3</td>\n",
       "      <td>0.672</td>\n",
       "      <td>32</td>\n",
       "      <td>1</td>\n",
       "    </tr>\n",
       "    <tr>\n",
       "      <th>3</th>\n",
       "      <td>1</td>\n",
       "      <td>89</td>\n",
       "      <td>66</td>\n",
       "      <td>23</td>\n",
       "      <td>94</td>\n",
       "      <td>28.1</td>\n",
       "      <td>0.167</td>\n",
       "      <td>21</td>\n",
       "      <td>0</td>\n",
       "    </tr>\n",
       "    <tr>\n",
       "      <th>4</th>\n",
       "      <td>0</td>\n",
       "      <td>137</td>\n",
       "      <td>40</td>\n",
       "      <td>35</td>\n",
       "      <td>168</td>\n",
       "      <td>43.1</td>\n",
       "      <td>2.288</td>\n",
       "      <td>33</td>\n",
       "      <td>1</td>\n",
       "    </tr>\n",
       "  </tbody>\n",
       "</table>\n",
       "</div>"
      ],
      "text/plain": [
       "   Pregnancies  Glucose  BloodPressure  SkinThickness  Insulin   BMI  \\\n",
       "0            6      148             72             35        0  33.6   \n",
       "1            1       85             66             29        0  26.6   \n",
       "2            8      183             64              0        0  23.3   \n",
       "3            1       89             66             23       94  28.1   \n",
       "4            0      137             40             35      168  43.1   \n",
       "\n",
       "   DiabetesPedigreeFunction  Age  Outcome  \n",
       "0                     0.627   50        1  \n",
       "1                     0.351   31        0  \n",
       "2                     0.672   32        1  \n",
       "3                     0.167   21        0  \n",
       "4                     2.288   33        1  "
      ]
     },
     "execution_count": 2,
     "metadata": {},
     "output_type": "execute_result"
    }
   ],
   "source": [
    "diab = pd.read_csv('/kaggle/input/pima-indians-diabetes-database/diabetes.csv')\n",
    "diab.head()"
   ]
  },
  {
   "cell_type": "markdown",
   "id": "8a71d6b1",
   "metadata": {
    "papermill": {
     "duration": 0.042915,
     "end_time": "2022-04-20T12:52:58.430926",
     "exception": false,
     "start_time": "2022-04-20T12:52:58.388011",
     "status": "completed"
    },
    "tags": []
   },
   "source": [
    "In EDA, we look out for missing values, NAN values, summerize the data types of each attribute and duplicated values"
   ]
  },
  {
   "cell_type": "code",
   "execution_count": 3,
   "id": "8fb1f1d8",
   "metadata": {
    "execution": {
     "iopub.execute_input": "2022-04-20T12:52:58.519960Z",
     "iopub.status.busy": "2022-04-20T12:52:58.519382Z",
     "iopub.status.idle": "2022-04-20T12:52:58.525616Z",
     "shell.execute_reply": "2022-04-20T12:52:58.524944Z"
    },
    "papermill": {
     "duration": 0.053324,
     "end_time": "2022-04-20T12:52:58.527560",
     "exception": false,
     "start_time": "2022-04-20T12:52:58.474236",
     "status": "completed"
    },
    "tags": []
   },
   "outputs": [
    {
     "data": {
      "text/plain": [
       "(768, 9)"
      ]
     },
     "execution_count": 3,
     "metadata": {},
     "output_type": "execute_result"
    }
   ],
   "source": [
    "diab.shape"
   ]
  },
  {
   "cell_type": "code",
   "execution_count": 4,
   "id": "c88d334a",
   "metadata": {
    "execution": {
     "iopub.execute_input": "2022-04-20T12:52:58.616638Z",
     "iopub.status.busy": "2022-04-20T12:52:58.616037Z",
     "iopub.status.idle": "2022-04-20T12:52:58.642805Z",
     "shell.execute_reply": "2022-04-20T12:52:58.641656Z"
    },
    "papermill": {
     "duration": 0.074517,
     "end_time": "2022-04-20T12:52:58.645546",
     "exception": false,
     "start_time": "2022-04-20T12:52:58.571029",
     "status": "completed"
    },
    "tags": []
   },
   "outputs": [
    {
     "name": "stdout",
     "output_type": "stream",
     "text": [
      "<class 'pandas.core.frame.DataFrame'>\n",
      "RangeIndex: 768 entries, 0 to 767\n",
      "Data columns (total 9 columns):\n",
      " #   Column                    Non-Null Count  Dtype  \n",
      "---  ------                    --------------  -----  \n",
      " 0   Pregnancies               768 non-null    int64  \n",
      " 1   Glucose                   768 non-null    int64  \n",
      " 2   BloodPressure             768 non-null    int64  \n",
      " 3   SkinThickness             768 non-null    int64  \n",
      " 4   Insulin                   768 non-null    int64  \n",
      " 5   BMI                       768 non-null    float64\n",
      " 6   DiabetesPedigreeFunction  768 non-null    float64\n",
      " 7   Age                       768 non-null    int64  \n",
      " 8   Outcome                   768 non-null    int64  \n",
      "dtypes: float64(2), int64(7)\n",
      "memory usage: 54.1 KB\n"
     ]
    }
   ],
   "source": [
    "diab.info()"
   ]
  },
  {
   "cell_type": "code",
   "execution_count": 5,
   "id": "6d0c4829",
   "metadata": {
    "execution": {
     "iopub.execute_input": "2022-04-20T12:52:58.735829Z",
     "iopub.status.busy": "2022-04-20T12:52:58.735238Z",
     "iopub.status.idle": "2022-04-20T12:52:58.744328Z",
     "shell.execute_reply": "2022-04-20T12:52:58.743446Z"
    },
    "papermill": {
     "duration": 0.056481,
     "end_time": "2022-04-20T12:52:58.746628",
     "exception": false,
     "start_time": "2022-04-20T12:52:58.690147",
     "status": "completed"
    },
    "tags": []
   },
   "outputs": [
    {
     "data": {
      "text/plain": [
       "0"
      ]
     },
     "execution_count": 5,
     "metadata": {},
     "output_type": "execute_result"
    }
   ],
   "source": [
    "diab.duplicated().sum()"
   ]
  },
  {
   "cell_type": "code",
   "execution_count": 6,
   "id": "a95bfb8f",
   "metadata": {
    "execution": {
     "iopub.execute_input": "2022-04-20T12:52:58.839560Z",
     "iopub.status.busy": "2022-04-20T12:52:58.839030Z",
     "iopub.status.idle": "2022-04-20T12:52:58.879360Z",
     "shell.execute_reply": "2022-04-20T12:52:58.878475Z"
    },
    "papermill": {
     "duration": 0.09,
     "end_time": "2022-04-20T12:52:58.881707",
     "exception": false,
     "start_time": "2022-04-20T12:52:58.791707",
     "status": "completed"
    },
    "tags": []
   },
   "outputs": [
    {
     "data": {
      "text/html": [
       "<div>\n",
       "<style scoped>\n",
       "    .dataframe tbody tr th:only-of-type {\n",
       "        vertical-align: middle;\n",
       "    }\n",
       "\n",
       "    .dataframe tbody tr th {\n",
       "        vertical-align: top;\n",
       "    }\n",
       "\n",
       "    .dataframe thead th {\n",
       "        text-align: right;\n",
       "    }\n",
       "</style>\n",
       "<table border=\"1\" class=\"dataframe\">\n",
       "  <thead>\n",
       "    <tr style=\"text-align: right;\">\n",
       "      <th></th>\n",
       "      <th>count</th>\n",
       "      <th>mean</th>\n",
       "      <th>std</th>\n",
       "      <th>min</th>\n",
       "      <th>25%</th>\n",
       "      <th>50%</th>\n",
       "      <th>75%</th>\n",
       "      <th>max</th>\n",
       "    </tr>\n",
       "  </thead>\n",
       "  <tbody>\n",
       "    <tr>\n",
       "      <th>Pregnancies</th>\n",
       "      <td>768.0</td>\n",
       "      <td>3.845052</td>\n",
       "      <td>3.369578</td>\n",
       "      <td>0.000</td>\n",
       "      <td>1.00000</td>\n",
       "      <td>3.0000</td>\n",
       "      <td>6.00000</td>\n",
       "      <td>17.00</td>\n",
       "    </tr>\n",
       "    <tr>\n",
       "      <th>Glucose</th>\n",
       "      <td>768.0</td>\n",
       "      <td>120.894531</td>\n",
       "      <td>31.972618</td>\n",
       "      <td>0.000</td>\n",
       "      <td>99.00000</td>\n",
       "      <td>117.0000</td>\n",
       "      <td>140.25000</td>\n",
       "      <td>199.00</td>\n",
       "    </tr>\n",
       "    <tr>\n",
       "      <th>BloodPressure</th>\n",
       "      <td>768.0</td>\n",
       "      <td>69.105469</td>\n",
       "      <td>19.355807</td>\n",
       "      <td>0.000</td>\n",
       "      <td>62.00000</td>\n",
       "      <td>72.0000</td>\n",
       "      <td>80.00000</td>\n",
       "      <td>122.00</td>\n",
       "    </tr>\n",
       "    <tr>\n",
       "      <th>SkinThickness</th>\n",
       "      <td>768.0</td>\n",
       "      <td>20.536458</td>\n",
       "      <td>15.952218</td>\n",
       "      <td>0.000</td>\n",
       "      <td>0.00000</td>\n",
       "      <td>23.0000</td>\n",
       "      <td>32.00000</td>\n",
       "      <td>99.00</td>\n",
       "    </tr>\n",
       "    <tr>\n",
       "      <th>Insulin</th>\n",
       "      <td>768.0</td>\n",
       "      <td>79.799479</td>\n",
       "      <td>115.244002</td>\n",
       "      <td>0.000</td>\n",
       "      <td>0.00000</td>\n",
       "      <td>30.5000</td>\n",
       "      <td>127.25000</td>\n",
       "      <td>846.00</td>\n",
       "    </tr>\n",
       "    <tr>\n",
       "      <th>BMI</th>\n",
       "      <td>768.0</td>\n",
       "      <td>31.992578</td>\n",
       "      <td>7.884160</td>\n",
       "      <td>0.000</td>\n",
       "      <td>27.30000</td>\n",
       "      <td>32.0000</td>\n",
       "      <td>36.60000</td>\n",
       "      <td>67.10</td>\n",
       "    </tr>\n",
       "    <tr>\n",
       "      <th>DiabetesPedigreeFunction</th>\n",
       "      <td>768.0</td>\n",
       "      <td>0.471876</td>\n",
       "      <td>0.331329</td>\n",
       "      <td>0.078</td>\n",
       "      <td>0.24375</td>\n",
       "      <td>0.3725</td>\n",
       "      <td>0.62625</td>\n",
       "      <td>2.42</td>\n",
       "    </tr>\n",
       "    <tr>\n",
       "      <th>Age</th>\n",
       "      <td>768.0</td>\n",
       "      <td>33.240885</td>\n",
       "      <td>11.760232</td>\n",
       "      <td>21.000</td>\n",
       "      <td>24.00000</td>\n",
       "      <td>29.0000</td>\n",
       "      <td>41.00000</td>\n",
       "      <td>81.00</td>\n",
       "    </tr>\n",
       "    <tr>\n",
       "      <th>Outcome</th>\n",
       "      <td>768.0</td>\n",
       "      <td>0.348958</td>\n",
       "      <td>0.476951</td>\n",
       "      <td>0.000</td>\n",
       "      <td>0.00000</td>\n",
       "      <td>0.0000</td>\n",
       "      <td>1.00000</td>\n",
       "      <td>1.00</td>\n",
       "    </tr>\n",
       "  </tbody>\n",
       "</table>\n",
       "</div>"
      ],
      "text/plain": [
       "                          count        mean         std     min       25%  \\\n",
       "Pregnancies               768.0    3.845052    3.369578   0.000   1.00000   \n",
       "Glucose                   768.0  120.894531   31.972618   0.000  99.00000   \n",
       "BloodPressure             768.0   69.105469   19.355807   0.000  62.00000   \n",
       "SkinThickness             768.0   20.536458   15.952218   0.000   0.00000   \n",
       "Insulin                   768.0   79.799479  115.244002   0.000   0.00000   \n",
       "BMI                       768.0   31.992578    7.884160   0.000  27.30000   \n",
       "DiabetesPedigreeFunction  768.0    0.471876    0.331329   0.078   0.24375   \n",
       "Age                       768.0   33.240885   11.760232  21.000  24.00000   \n",
       "Outcome                   768.0    0.348958    0.476951   0.000   0.00000   \n",
       "\n",
       "                               50%        75%     max  \n",
       "Pregnancies                 3.0000    6.00000   17.00  \n",
       "Glucose                   117.0000  140.25000  199.00  \n",
       "BloodPressure              72.0000   80.00000  122.00  \n",
       "SkinThickness              23.0000   32.00000   99.00  \n",
       "Insulin                    30.5000  127.25000  846.00  \n",
       "BMI                        32.0000   36.60000   67.10  \n",
       "DiabetesPedigreeFunction    0.3725    0.62625    2.42  \n",
       "Age                        29.0000   41.00000   81.00  \n",
       "Outcome                     0.0000    1.00000    1.00  "
      ]
     },
     "execution_count": 6,
     "metadata": {},
     "output_type": "execute_result"
    }
   ],
   "source": [
    "diab.describe().T"
   ]
  },
  {
   "cell_type": "markdown",
   "id": "66a76700",
   "metadata": {
    "papermill": {
     "duration": 0.046029,
     "end_time": "2022-04-20T12:52:58.974263",
     "exception": false,
     "start_time": "2022-04-20T12:52:58.928234",
     "status": "completed"
    },
    "tags": []
   },
   "source": [
    "Data Visualization of the given dataset as well as correlation of columns with each other and the representation of related column data in a scatterplot"
   ]
  },
  {
   "cell_type": "code",
   "execution_count": 7,
   "id": "8c0ae71a",
   "metadata": {
    "execution": {
     "iopub.execute_input": "2022-04-20T12:52:59.067099Z",
     "iopub.status.busy": "2022-04-20T12:52:59.066795Z",
     "iopub.status.idle": "2022-04-20T12:52:59.162378Z",
     "shell.execute_reply": "2022-04-20T12:52:59.161719Z"
    },
    "papermill": {
     "duration": 0.143853,
     "end_time": "2022-04-20T12:52:59.164200",
     "exception": false,
     "start_time": "2022-04-20T12:52:59.020347",
     "status": "completed"
    },
    "tags": []
   },
   "outputs": [
    {
     "data": {
      "text/html": [
       "<style type=\"text/css\">\n",
       "#T_28837_row0_col0, #T_28837_row1_col1, #T_28837_row2_col2, #T_28837_row3_col3, #T_28837_row4_col4, #T_28837_row5_col5, #T_28837_row6_col6, #T_28837_row7_col7, #T_28837_row8_col8 {\n",
       "  background-color: #b40426;\n",
       "  color: #f1f1f1;\n",
       "}\n",
       "#T_28837_row0_col1 {\n",
       "  background-color: #516ddb;\n",
       "  color: #f1f1f1;\n",
       "}\n",
       "#T_28837_row0_col2 {\n",
       "  background-color: #5a78e4;\n",
       "  color: #f1f1f1;\n",
       "}\n",
       "#T_28837_row0_col3, #T_28837_row7_col4 {\n",
       "  background-color: #4358cb;\n",
       "  color: #f1f1f1;\n",
       "}\n",
       "#T_28837_row0_col4, #T_28837_row0_col5, #T_28837_row0_col6, #T_28837_row2_col8, #T_28837_row3_col0, #T_28837_row3_col1, #T_28837_row3_col7, #T_28837_row6_col2, #T_28837_row7_col3 {\n",
       "  background-color: #3b4cc0;\n",
       "  color: #f1f1f1;\n",
       "}\n",
       "#T_28837_row0_col7 {\n",
       "  background-color: #f1cdba;\n",
       "  color: #000000;\n",
       "}\n",
       "#T_28837_row0_col8, #T_28837_row1_col6 {\n",
       "  background-color: #6f92f3;\n",
       "  color: #f1f1f1;\n",
       "}\n",
       "#T_28837_row1_col0 {\n",
       "  background-color: #799cf8;\n",
       "  color: #f1f1f1;\n",
       "}\n",
       "#T_28837_row1_col2, #T_28837_row6_col8 {\n",
       "  background-color: #5e7de7;\n",
       "  color: #f1f1f1;\n",
       "}\n",
       "#T_28837_row1_col3 {\n",
       "  background-color: #6b8df0;\n",
       "  color: #f1f1f1;\n",
       "}\n",
       "#T_28837_row1_col4 {\n",
       "  background-color: #b9d0f9;\n",
       "  color: #000000;\n",
       "}\n",
       "#T_28837_row1_col5, #T_28837_row3_col6 {\n",
       "  background-color: #7ea1fa;\n",
       "  color: #f1f1f1;\n",
       "}\n",
       "#T_28837_row1_col7 {\n",
       "  background-color: #abc8fd;\n",
       "  color: #000000;\n",
       "}\n",
       "#T_28837_row1_col8 {\n",
       "  background-color: #c9d7f0;\n",
       "  color: #000000;\n",
       "}\n",
       "#T_28837_row2_col0, #T_28837_row7_col2 {\n",
       "  background-color: #7da0f9;\n",
       "  color: #f1f1f1;\n",
       "}\n",
       "#T_28837_row2_col1 {\n",
       "  background-color: #5977e3;\n",
       "  color: #f1f1f1;\n",
       "}\n",
       "#T_28837_row2_col3 {\n",
       "  background-color: #9abbff;\n",
       "  color: #000000;\n",
       "}\n",
       "#T_28837_row2_col4 {\n",
       "  background-color: #6a8bef;\n",
       "  color: #f1f1f1;\n",
       "}\n",
       "#T_28837_row2_col5, #T_28837_row6_col3 {\n",
       "  background-color: #93b5fe;\n",
       "  color: #000000;\n",
       "}\n",
       "#T_28837_row2_col6 {\n",
       "  background-color: #506bda;\n",
       "  color: #f1f1f1;\n",
       "}\n",
       "#T_28837_row2_col7 {\n",
       "  background-color: #a5c3fe;\n",
       "  color: #000000;\n",
       "}\n",
       "#T_28837_row3_col2, #T_28837_row5_col1 {\n",
       "  background-color: #7295f4;\n",
       "  color: #f1f1f1;\n",
       "}\n",
       "#T_28837_row3_col4 {\n",
       "  background-color: #d6dce4;\n",
       "  color: #000000;\n",
       "}\n",
       "#T_28837_row3_col5 {\n",
       "  background-color: #bad0f8;\n",
       "  color: #000000;\n",
       "}\n",
       "#T_28837_row3_col8 {\n",
       "  background-color: #3d50c3;\n",
       "  color: #f1f1f1;\n",
       "}\n",
       "#T_28837_row4_col0 {\n",
       "  background-color: #3c4ec2;\n",
       "  color: #f1f1f1;\n",
       "}\n",
       "#T_28837_row4_col1 {\n",
       "  background-color: #9bbcff;\n",
       "  color: #000000;\n",
       "}\n",
       "#T_28837_row4_col2 {\n",
       "  background-color: #4961d2;\n",
       "  color: #f1f1f1;\n",
       "}\n",
       "#T_28837_row4_col3 {\n",
       "  background-color: #dbdcde;\n",
       "  color: #000000;\n",
       "}\n",
       "#T_28837_row4_col5 {\n",
       "  background-color: #7597f6;\n",
       "  color: #f1f1f1;\n",
       "}\n",
       "#T_28837_row4_col6 {\n",
       "  background-color: #80a3fa;\n",
       "  color: #f1f1f1;\n",
       "}\n",
       "#T_28837_row4_col7, #T_28837_row7_col6 {\n",
       "  background-color: #4e68d8;\n",
       "  color: #f1f1f1;\n",
       "}\n",
       "#T_28837_row4_col8 {\n",
       "  background-color: #4f69d9;\n",
       "  color: #f1f1f1;\n",
       "}\n",
       "#T_28837_row5_col0 {\n",
       "  background-color: #5673e0;\n",
       "  color: #f1f1f1;\n",
       "}\n",
       "#T_28837_row5_col2, #T_28837_row5_col4 {\n",
       "  background-color: #8db0fe;\n",
       "  color: #000000;\n",
       "}\n",
       "#T_28837_row5_col3 {\n",
       "  background-color: #d1dae9;\n",
       "  color: #000000;\n",
       "}\n",
       "#T_28837_row5_col6, #T_28837_row8_col3 {\n",
       "  background-color: #7093f3;\n",
       "  color: #f1f1f1;\n",
       "}\n",
       "#T_28837_row5_col7 {\n",
       "  background-color: #6485ec;\n",
       "  color: #f1f1f1;\n",
       "}\n",
       "#T_28837_row5_col8 {\n",
       "  background-color: #8badfd;\n",
       "  color: #000000;\n",
       "}\n",
       "#T_28837_row6_col0 {\n",
       "  background-color: #485fd1;\n",
       "  color: #f1f1f1;\n",
       "}\n",
       "#T_28837_row6_col1 {\n",
       "  background-color: #5470de;\n",
       "  color: #f1f1f1;\n",
       "}\n",
       "#T_28837_row6_col4 {\n",
       "  background-color: #89acfd;\n",
       "  color: #000000;\n",
       "}\n",
       "#T_28837_row6_col5 {\n",
       "  background-color: #6282ea;\n",
       "  color: #f1f1f1;\n",
       "}\n",
       "#T_28837_row6_col7 {\n",
       "  background-color: #6384eb;\n",
       "  color: #f1f1f1;\n",
       "}\n",
       "#T_28837_row7_col0 {\n",
       "  background-color: #efcfbf;\n",
       "  color: #000000;\n",
       "}\n",
       "#T_28837_row7_col1 {\n",
       "  background-color: #81a4fb;\n",
       "  color: #f1f1f1;\n",
       "}\n",
       "#T_28837_row7_col5 {\n",
       "  background-color: #3f53c6;\n",
       "  color: #f1f1f1;\n",
       "}\n",
       "#T_28837_row7_col8 {\n",
       "  background-color: #7699f6;\n",
       "  color: #f1f1f1;\n",
       "}\n",
       "#T_28837_row8_col0, #T_28837_row8_col5 {\n",
       "  background-color: #97b8ff;\n",
       "  color: #000000;\n",
       "}\n",
       "#T_28837_row8_col1 {\n",
       "  background-color: #cbd8ee;\n",
       "  color: #000000;\n",
       "}\n",
       "#T_28837_row8_col2 {\n",
       "  background-color: #4257c9;\n",
       "  color: #f1f1f1;\n",
       "}\n",
       "#T_28837_row8_col4 {\n",
       "  background-color: #779af7;\n",
       "  color: #f1f1f1;\n",
       "}\n",
       "#T_28837_row8_col6 {\n",
       "  background-color: #7b9ff9;\n",
       "  color: #f1f1f1;\n",
       "}\n",
       "#T_28837_row8_col7 {\n",
       "  background-color: #a3c2fe;\n",
       "  color: #000000;\n",
       "}\n",
       "</style>\n",
       "<table id=\"T_28837_\">\n",
       "  <thead>\n",
       "    <tr>\n",
       "      <th class=\"blank level0\" >&nbsp;</th>\n",
       "      <th class=\"col_heading level0 col0\" >Pregnancies</th>\n",
       "      <th class=\"col_heading level0 col1\" >Glucose</th>\n",
       "      <th class=\"col_heading level0 col2\" >BloodPressure</th>\n",
       "      <th class=\"col_heading level0 col3\" >SkinThickness</th>\n",
       "      <th class=\"col_heading level0 col4\" >Insulin</th>\n",
       "      <th class=\"col_heading level0 col5\" >BMI</th>\n",
       "      <th class=\"col_heading level0 col6\" >DiabetesPedigreeFunction</th>\n",
       "      <th class=\"col_heading level0 col7\" >Age</th>\n",
       "      <th class=\"col_heading level0 col8\" >Outcome</th>\n",
       "    </tr>\n",
       "  </thead>\n",
       "  <tbody>\n",
       "    <tr>\n",
       "      <th id=\"T_28837_level0_row0\" class=\"row_heading level0 row0\" >Pregnancies</th>\n",
       "      <td id=\"T_28837_row0_col0\" class=\"data row0 col0\" >1.000000</td>\n",
       "      <td id=\"T_28837_row0_col1\" class=\"data row0 col1\" >0.129459</td>\n",
       "      <td id=\"T_28837_row0_col2\" class=\"data row0 col2\" >0.141282</td>\n",
       "      <td id=\"T_28837_row0_col3\" class=\"data row0 col3\" >-0.081672</td>\n",
       "      <td id=\"T_28837_row0_col4\" class=\"data row0 col4\" >-0.073535</td>\n",
       "      <td id=\"T_28837_row0_col5\" class=\"data row0 col5\" >0.017683</td>\n",
       "      <td id=\"T_28837_row0_col6\" class=\"data row0 col6\" >-0.033523</td>\n",
       "      <td id=\"T_28837_row0_col7\" class=\"data row0 col7\" >0.544341</td>\n",
       "      <td id=\"T_28837_row0_col8\" class=\"data row0 col8\" >0.221898</td>\n",
       "    </tr>\n",
       "    <tr>\n",
       "      <th id=\"T_28837_level0_row1\" class=\"row_heading level0 row1\" >Glucose</th>\n",
       "      <td id=\"T_28837_row1_col0\" class=\"data row1 col0\" >0.129459</td>\n",
       "      <td id=\"T_28837_row1_col1\" class=\"data row1 col1\" >1.000000</td>\n",
       "      <td id=\"T_28837_row1_col2\" class=\"data row1 col2\" >0.152590</td>\n",
       "      <td id=\"T_28837_row1_col3\" class=\"data row1 col3\" >0.057328</td>\n",
       "      <td id=\"T_28837_row1_col4\" class=\"data row1 col4\" >0.331357</td>\n",
       "      <td id=\"T_28837_row1_col5\" class=\"data row1 col5\" >0.221071</td>\n",
       "      <td id=\"T_28837_row1_col6\" class=\"data row1 col6\" >0.137337</td>\n",
       "      <td id=\"T_28837_row1_col7\" class=\"data row1 col7\" >0.263514</td>\n",
       "      <td id=\"T_28837_row1_col8\" class=\"data row1 col8\" >0.466581</td>\n",
       "    </tr>\n",
       "    <tr>\n",
       "      <th id=\"T_28837_level0_row2\" class=\"row_heading level0 row2\" >BloodPressure</th>\n",
       "      <td id=\"T_28837_row2_col0\" class=\"data row2 col0\" >0.141282</td>\n",
       "      <td id=\"T_28837_row2_col1\" class=\"data row2 col1\" >0.152590</td>\n",
       "      <td id=\"T_28837_row2_col2\" class=\"data row2 col2\" >1.000000</td>\n",
       "      <td id=\"T_28837_row2_col3\" class=\"data row2 col3\" >0.207371</td>\n",
       "      <td id=\"T_28837_row2_col4\" class=\"data row2 col4\" >0.088933</td>\n",
       "      <td id=\"T_28837_row2_col5\" class=\"data row2 col5\" >0.281805</td>\n",
       "      <td id=\"T_28837_row2_col6\" class=\"data row2 col6\" >0.041265</td>\n",
       "      <td id=\"T_28837_row2_col7\" class=\"data row2 col7\" >0.239528</td>\n",
       "      <td id=\"T_28837_row2_col8\" class=\"data row2 col8\" >0.065068</td>\n",
       "    </tr>\n",
       "    <tr>\n",
       "      <th id=\"T_28837_level0_row3\" class=\"row_heading level0 row3\" >SkinThickness</th>\n",
       "      <td id=\"T_28837_row3_col0\" class=\"data row3 col0\" >-0.081672</td>\n",
       "      <td id=\"T_28837_row3_col1\" class=\"data row3 col1\" >0.057328</td>\n",
       "      <td id=\"T_28837_row3_col2\" class=\"data row3 col2\" >0.207371</td>\n",
       "      <td id=\"T_28837_row3_col3\" class=\"data row3 col3\" >1.000000</td>\n",
       "      <td id=\"T_28837_row3_col4\" class=\"data row3 col4\" >0.436783</td>\n",
       "      <td id=\"T_28837_row3_col5\" class=\"data row3 col5\" >0.392573</td>\n",
       "      <td id=\"T_28837_row3_col6\" class=\"data row3 col6\" >0.183928</td>\n",
       "      <td id=\"T_28837_row3_col7\" class=\"data row3 col7\" >-0.113970</td>\n",
       "      <td id=\"T_28837_row3_col8\" class=\"data row3 col8\" >0.074752</td>\n",
       "    </tr>\n",
       "    <tr>\n",
       "      <th id=\"T_28837_level0_row4\" class=\"row_heading level0 row4\" >Insulin</th>\n",
       "      <td id=\"T_28837_row4_col0\" class=\"data row4 col0\" >-0.073535</td>\n",
       "      <td id=\"T_28837_row4_col1\" class=\"data row4 col1\" >0.331357</td>\n",
       "      <td id=\"T_28837_row4_col2\" class=\"data row4 col2\" >0.088933</td>\n",
       "      <td id=\"T_28837_row4_col3\" class=\"data row4 col3\" >0.436783</td>\n",
       "      <td id=\"T_28837_row4_col4\" class=\"data row4 col4\" >1.000000</td>\n",
       "      <td id=\"T_28837_row4_col5\" class=\"data row4 col5\" >0.197859</td>\n",
       "      <td id=\"T_28837_row4_col6\" class=\"data row4 col6\" >0.185071</td>\n",
       "      <td id=\"T_28837_row4_col7\" class=\"data row4 col7\" >-0.042163</td>\n",
       "      <td id=\"T_28837_row4_col8\" class=\"data row4 col8\" >0.130548</td>\n",
       "    </tr>\n",
       "    <tr>\n",
       "      <th id=\"T_28837_level0_row5\" class=\"row_heading level0 row5\" >BMI</th>\n",
       "      <td id=\"T_28837_row5_col0\" class=\"data row5 col0\" >0.017683</td>\n",
       "      <td id=\"T_28837_row5_col1\" class=\"data row5 col1\" >0.221071</td>\n",
       "      <td id=\"T_28837_row5_col2\" class=\"data row5 col2\" >0.281805</td>\n",
       "      <td id=\"T_28837_row5_col3\" class=\"data row5 col3\" >0.392573</td>\n",
       "      <td id=\"T_28837_row5_col4\" class=\"data row5 col4\" >0.197859</td>\n",
       "      <td id=\"T_28837_row5_col5\" class=\"data row5 col5\" >1.000000</td>\n",
       "      <td id=\"T_28837_row5_col6\" class=\"data row5 col6\" >0.140647</td>\n",
       "      <td id=\"T_28837_row5_col7\" class=\"data row5 col7\" >0.036242</td>\n",
       "      <td id=\"T_28837_row5_col8\" class=\"data row5 col8\" >0.292695</td>\n",
       "    </tr>\n",
       "    <tr>\n",
       "      <th id=\"T_28837_level0_row6\" class=\"row_heading level0 row6\" >DiabetesPedigreeFunction</th>\n",
       "      <td id=\"T_28837_row6_col0\" class=\"data row6 col0\" >-0.033523</td>\n",
       "      <td id=\"T_28837_row6_col1\" class=\"data row6 col1\" >0.137337</td>\n",
       "      <td id=\"T_28837_row6_col2\" class=\"data row6 col2\" >0.041265</td>\n",
       "      <td id=\"T_28837_row6_col3\" class=\"data row6 col3\" >0.183928</td>\n",
       "      <td id=\"T_28837_row6_col4\" class=\"data row6 col4\" >0.185071</td>\n",
       "      <td id=\"T_28837_row6_col5\" class=\"data row6 col5\" >0.140647</td>\n",
       "      <td id=\"T_28837_row6_col6\" class=\"data row6 col6\" >1.000000</td>\n",
       "      <td id=\"T_28837_row6_col7\" class=\"data row6 col7\" >0.033561</td>\n",
       "      <td id=\"T_28837_row6_col8\" class=\"data row6 col8\" >0.173844</td>\n",
       "    </tr>\n",
       "    <tr>\n",
       "      <th id=\"T_28837_level0_row7\" class=\"row_heading level0 row7\" >Age</th>\n",
       "      <td id=\"T_28837_row7_col0\" class=\"data row7 col0\" >0.544341</td>\n",
       "      <td id=\"T_28837_row7_col1\" class=\"data row7 col1\" >0.263514</td>\n",
       "      <td id=\"T_28837_row7_col2\" class=\"data row7 col2\" >0.239528</td>\n",
       "      <td id=\"T_28837_row7_col3\" class=\"data row7 col3\" >-0.113970</td>\n",
       "      <td id=\"T_28837_row7_col4\" class=\"data row7 col4\" >-0.042163</td>\n",
       "      <td id=\"T_28837_row7_col5\" class=\"data row7 col5\" >0.036242</td>\n",
       "      <td id=\"T_28837_row7_col6\" class=\"data row7 col6\" >0.033561</td>\n",
       "      <td id=\"T_28837_row7_col7\" class=\"data row7 col7\" >1.000000</td>\n",
       "      <td id=\"T_28837_row7_col8\" class=\"data row7 col8\" >0.238356</td>\n",
       "    </tr>\n",
       "    <tr>\n",
       "      <th id=\"T_28837_level0_row8\" class=\"row_heading level0 row8\" >Outcome</th>\n",
       "      <td id=\"T_28837_row8_col0\" class=\"data row8 col0\" >0.221898</td>\n",
       "      <td id=\"T_28837_row8_col1\" class=\"data row8 col1\" >0.466581</td>\n",
       "      <td id=\"T_28837_row8_col2\" class=\"data row8 col2\" >0.065068</td>\n",
       "      <td id=\"T_28837_row8_col3\" class=\"data row8 col3\" >0.074752</td>\n",
       "      <td id=\"T_28837_row8_col4\" class=\"data row8 col4\" >0.130548</td>\n",
       "      <td id=\"T_28837_row8_col5\" class=\"data row8 col5\" >0.292695</td>\n",
       "      <td id=\"T_28837_row8_col6\" class=\"data row8 col6\" >0.173844</td>\n",
       "      <td id=\"T_28837_row8_col7\" class=\"data row8 col7\" >0.238356</td>\n",
       "      <td id=\"T_28837_row8_col8\" class=\"data row8 col8\" >1.000000</td>\n",
       "    </tr>\n",
       "  </tbody>\n",
       "</table>\n"
      ],
      "text/plain": [
       "<pandas.io.formats.style.Styler at 0x7f1d9fef0190>"
      ]
     },
     "execution_count": 7,
     "metadata": {},
     "output_type": "execute_result"
    }
   ],
   "source": [
    "diab.corr().style.background_gradient(cmap='coolwarm')"
   ]
  },
  {
   "cell_type": "markdown",
   "id": "c52cf0a7",
   "metadata": {
    "papermill": {
     "duration": 0.046947,
     "end_time": "2022-04-20T12:52:59.257110",
     "exception": false,
     "start_time": "2022-04-20T12:52:59.210163",
     "status": "completed"
    },
    "tags": []
   },
   "source": [
    "In this dataset, we don't come across any duplicate value nor missing values. This dataset is clean and ready for visualisation\n"
   ]
  },
  {
   "cell_type": "code",
   "execution_count": 8,
   "id": "1c99d247",
   "metadata": {
    "execution": {
     "iopub.execute_input": "2022-04-20T12:52:59.352430Z",
     "iopub.status.busy": "2022-04-20T12:52:59.351886Z",
     "iopub.status.idle": "2022-04-20T12:52:59.357437Z",
     "shell.execute_reply": "2022-04-20T12:52:59.356847Z"
    },
    "papermill": {
     "duration": 0.055746,
     "end_time": "2022-04-20T12:52:59.359323",
     "exception": false,
     "start_time": "2022-04-20T12:52:59.303577",
     "status": "completed"
    },
    "tags": []
   },
   "outputs": [
    {
     "data": {
      "text/plain": [
       "Index(['Pregnancies', 'Glucose', 'BloodPressure', 'SkinThickness', 'Insulin',\n",
       "       'BMI', 'DiabetesPedigreeFunction', 'Age', 'Outcome'],\n",
       "      dtype='object')"
      ]
     },
     "execution_count": 8,
     "metadata": {},
     "output_type": "execute_result"
    }
   ],
   "source": [
    "diab.columns"
   ]
  },
  {
   "cell_type": "code",
   "execution_count": 9,
   "id": "d7f879c6",
   "metadata": {
    "execution": {
     "iopub.execute_input": "2022-04-20T12:52:59.454705Z",
     "iopub.status.busy": "2022-04-20T12:52:59.454169Z",
     "iopub.status.idle": "2022-04-20T12:52:59.827707Z",
     "shell.execute_reply": "2022-04-20T12:52:59.826913Z"
    },
    "papermill": {
     "duration": 0.423337,
     "end_time": "2022-04-20T12:52:59.829792",
     "exception": false,
     "start_time": "2022-04-20T12:52:59.406455",
     "status": "completed"
    },
    "tags": []
   },
   "outputs": [
    {
     "data": {
      "text/plain": [
       "<AxesSubplot:xlabel='Pregnancies', ylabel='BloodPressure'>"
      ]
     },
     "execution_count": 9,
     "metadata": {},
     "output_type": "execute_result"
    },
    {
     "data": {
      "image/png": "[encoded data removed]",
      "text/plain": [
       "<Figure size 432x288 with 1 Axes>"
      ]
     },
     "metadata": {
      "needs_background": "light"
     },
     "output_type": "display_data"
    }
   ],
   "source": [
    "sns.scatterplot(data=diab, x=diab['Pregnancies'], y=diab['BloodPressure'], hue=diab['Outcome'])"
   ]
  },
  {
   "cell_type": "code",
   "execution_count": 10,
   "id": "083d5f34",
   "metadata": {
    "execution": {
     "iopub.execute_input": "2022-04-20T12:52:59.929824Z",
     "iopub.status.busy": "2022-04-20T12:52:59.929300Z",
     "iopub.status.idle": "2022-04-20T12:53:00.248256Z",
     "shell.execute_reply": "2022-04-20T12:53:00.247648Z"
    },
    "papermill": {
     "duration": 0.370493,
     "end_time": "2022-04-20T12:53:00.250140",
     "exception": false,
     "start_time": "2022-04-20T12:52:59.879647",
     "status": "completed"
    },
    "tags": []
   },
   "outputs": [
    {
     "data": {
      "text/plain": [
       "<AxesSubplot:xlabel='SkinThickness', ylabel='BMI'>"
      ]
     },
     "execution_count": 10,
     "metadata": {},
     "output_type": "execute_result"
    },
    {
     "data": {
      "image/png": "[encoded data removed]",
      "text/plain": [
       "<Figure size 432x288 with 1 Axes>"
      ]
     },
     "metadata": {
      "needs_background": "light"
     },
     "output_type": "display_data"
    }
   ],
   "source": [
    "sns.scatterplot(data=diab, x=diab['SkinThickness'], y=diab['BMI'], hue=diab['Outcome'])"
   ]
  },
  {
   "cell_type": "code",
   "execution_count": 11,
   "id": "820172b5",
   "metadata": {
    "execution": {
     "iopub.execute_input": "2022-04-20T12:53:00.354585Z",
     "iopub.status.busy": "2022-04-20T12:53:00.354072Z",
     "iopub.status.idle": "2022-04-20T12:53:00.686972Z",
     "shell.execute_reply": "2022-04-20T12:53:00.686407Z"
    },
    "papermill": {
     "duration": 0.387328,
     "end_time": "2022-04-20T12:53:00.688833",
     "exception": false,
     "start_time": "2022-04-20T12:53:00.301505",
     "status": "completed"
    },
    "tags": []
   },
   "outputs": [
    {
     "data": {
      "text/plain": [
       "<AxesSubplot:xlabel='Glucose', ylabel='Insulin'>"
      ]
     },
     "execution_count": 11,
     "metadata": {},
     "output_type": "execute_result"
    },
    {
     "data": {
      "image/png": "[encoded data removed]",
      "text/plain": [
       "<Figure size 432x288 with 1 Axes>"
      ]
     },
     "metadata": {
      "needs_background": "light"
     },
     "output_type": "display_data"
    }
   ],
   "source": [
    "sns.scatterplot(data=diab, x=diab['Glucose'], y=diab['Insulin'], hue=diab['Outcome'])"
   ]
  },
  {
   "cell_type": "code",
   "execution_count": 12,
   "id": "e5364103",
   "metadata": {
    "execution": {
     "iopub.execute_input": "2022-04-20T12:53:00.795531Z",
     "iopub.status.busy": "2022-04-20T12:53:00.795082Z",
     "iopub.status.idle": "2022-04-20T12:53:01.510705Z",
     "shell.execute_reply": "2022-04-20T12:53:01.510105Z"
    },
    "papermill": {
     "duration": 0.771543,
     "end_time": "2022-04-20T12:53:01.512734",
     "exception": false,
     "start_time": "2022-04-20T12:53:00.741191",
     "status": "completed"
    },
    "tags": []
   },
   "outputs": [
    {
     "data": {
      "text/plain": [
       "<AxesSubplot:>"
      ]
     },
     "execution_count": 12,
     "metadata": {},
     "output_type": "execute_result"
    },
    {
     "data": {
      "image/png": "[encoded data removed]",
      "text/plain": [
       "<Figure size 432x288 with 2 Axes>"
      ]
     },
     "metadata": {
      "needs_background": "light"
     },
     "output_type": "display_data"
    }
   ],
   "source": [
    "sns.heatmap(diab.corr(),annot=True,robust=True)"
   ]
  },
  {
   "cell_type": "markdown",
   "id": "97ead703",
   "metadata": {
    "papermill": {
     "duration": 0.055023,
     "end_time": "2022-04-20T12:53:01.623140",
     "exception": false,
     "start_time": "2022-04-20T12:53:01.568117",
     "status": "completed"
    },
    "tags": []
   },
   "source": [
    "Here, I have checked the targetted column categories"
   ]
  },
  {
   "cell_type": "code",
   "execution_count": 13,
   "id": "59363fc7",
   "metadata": {
    "execution": {
     "iopub.execute_input": "2022-04-20T12:53:01.733788Z",
     "iopub.status.busy": "2022-04-20T12:53:01.733217Z",
     "iopub.status.idle": "2022-04-20T12:53:01.740458Z",
     "shell.execute_reply": "2022-04-20T12:53:01.739413Z"
    },
    "papermill": {
     "duration": 0.065005,
     "end_time": "2022-04-20T12:53:01.742571",
     "exception": false,
     "start_time": "2022-04-20T12:53:01.677566",
     "status": "completed"
    },
    "tags": []
   },
   "outputs": [
    {
     "data": {
      "text/plain": [
       "0    500\n",
       "1    268\n",
       "Name: Outcome, dtype: int64"
      ]
     },
     "execution_count": 13,
     "metadata": {},
     "output_type": "execute_result"
    }
   ],
   "source": [
    "diab['Outcome'].value_counts()"
   ]
  },
  {
   "cell_type": "markdown",
   "id": "2b94b969",
   "metadata": {
    "papermill": {
     "duration": 0.057824,
     "end_time": "2022-04-20T12:53:01.856038",
     "exception": false,
     "start_time": "2022-04-20T12:53:01.798214",
     "status": "completed"
    },
    "tags": []
   },
   "source": [
    "K-NN modelling\n",
    "here, the dataset is splitted into training subset and the other variable is for targetted column"
   ]
  },
  {
   "cell_type": "code",
   "execution_count": 14,
   "id": "8e09719f",
   "metadata": {
    "execution": {
     "iopub.execute_input": "2022-04-20T12:53:01.968545Z",
     "iopub.status.busy": "2022-04-20T12:53:01.968244Z",
     "iopub.status.idle": "2022-04-20T12:53:01.973334Z",
     "shell.execute_reply": "2022-04-20T12:53:01.972611Z"
    },
    "papermill": {
     "duration": 0.063831,
     "end_time": "2022-04-20T12:53:01.975296",
     "exception": false,
     "start_time": "2022-04-20T12:53:01.911465",
     "status": "completed"
    },
    "tags": []
   },
   "outputs": [],
   "source": [
    "x = diab.drop('Outcome',axis=1)\n",
    "y = diab['Outcome']"
   ]
  },
  {
   "cell_type": "markdown",
   "id": "02d14830",
   "metadata": {
    "papermill": {
     "duration": 0.054909,
     "end_time": "2022-04-20T12:53:02.086266",
     "exception": false,
     "start_time": "2022-04-20T12:53:02.031357",
     "status": "completed"
    },
    "tags": []
   },
   "source": [
    "Here, we are using 'Manhattan' formula because our features are not similar."
   ]
  },
  {
   "cell_type": "code",
   "execution_count": 15,
   "id": "5d98acec",
   "metadata": {
    "execution": {
     "iopub.execute_input": "2022-04-20T12:53:02.198579Z",
     "iopub.status.busy": "2022-04-20T12:53:02.198159Z",
     "iopub.status.idle": "2022-04-20T12:53:02.202771Z",
     "shell.execute_reply": "2022-04-20T12:53:02.202135Z"
    },
    "papermill": {
     "duration": 0.063736,
     "end_time": "2022-04-20T12:53:02.205151",
     "exception": false,
     "start_time": "2022-04-20T12:53:02.141415",
     "status": "completed"
    },
    "tags": []
   },
   "outputs": [],
   "source": [
    "X_train, X_test, y_train, y_test = train_test_split(x,y) "
   ]
  },
  {
   "cell_type": "code",
   "execution_count": 16,
   "id": "54514883",
   "metadata": {
    "execution": {
     "iopub.execute_input": "2022-04-20T12:53:02.318827Z",
     "iopub.status.busy": "2022-04-20T12:53:02.318549Z",
     "iopub.status.idle": "2022-04-20T12:53:02.328826Z",
     "shell.execute_reply": "2022-04-20T12:53:02.327874Z"
    },
    "papermill": {
     "duration": 0.070557,
     "end_time": "2022-04-20T12:53:02.331213",
     "exception": false,
     "start_time": "2022-04-20T12:53:02.260656",
     "status": "completed"
    },
    "tags": []
   },
   "outputs": [],
   "source": [
    "sc = StandardScaler()\n",
    "X_train_std = sc.fit_transform(X_train)\n",
    "X_test_std = sc.transform(X_test)"
   ]
  },
  {
   "cell_type": "code",
   "execution_count": 17,
   "id": "a0a7d8f9",
   "metadata": {
    "execution": {
     "iopub.execute_input": "2022-04-20T12:53:02.447047Z",
     "iopub.status.busy": "2022-04-20T12:53:02.446614Z",
     "iopub.status.idle": "2022-04-20T12:53:02.462694Z",
     "shell.execute_reply": "2022-04-20T12:53:02.462064Z"
    },
    "papermill": {
     "duration": 0.078028,
     "end_time": "2022-04-20T12:53:02.464852",
     "exception": false,
     "start_time": "2022-04-20T12:53:02.386824",
     "status": "completed"
    },
    "tags": []
   },
   "outputs": [
    {
     "data": {
      "text/plain": [
       "KNeighborsClassifier(metric='manhattan', n_neighbors=17)"
      ]
     },
     "execution_count": 17,
     "metadata": {},
     "output_type": "execute_result"
    }
   ],
   "source": [
    "knn = KNeighborsClassifier(n_neighbors=17, metric='manhattan')\n",
    "knn.fit(X_train_std, y_train)"
   ]
  },
  {
   "cell_type": "code",
   "execution_count": 18,
   "id": "c831ae2f",
   "metadata": {
    "execution": {
     "iopub.execute_input": "2022-04-20T12:53:02.578847Z",
     "iopub.status.busy": "2022-04-20T12:53:02.578525Z",
     "iopub.status.idle": "2022-04-20T12:53:02.595872Z",
     "shell.execute_reply": "2022-04-20T12:53:02.595273Z"
    },
    "papermill": {
     "duration": 0.076664,
     "end_time": "2022-04-20T12:53:02.597846",
     "exception": false,
     "start_time": "2022-04-20T12:53:02.521182",
     "status": "completed"
    },
    "tags": []
   },
   "outputs": [
    {
     "data": {
      "text/plain": [
       "array([1, 0, 0, 0, 1, 1, 0, 1, 0, 0, 0, 1, 0, 0, 0, 0, 0, 0, 0, 0, 0, 0,\n",
       "       0, 0, 1, 0, 0, 0, 0, 0, 1, 0, 0, 0, 0, 0, 0, 0, 1, 0, 1, 0, 0, 0,\n",
       "       0, 1, 1, 0, 0, 0, 0, 1, 0, 0, 0, 0, 0, 1, 0, 0, 0, 1, 0, 1, 1, 0,\n",
       "       0, 0, 0, 0, 0, 0, 0, 0, 0, 0, 0, 0, 0, 1, 0, 0, 0, 0, 1, 0, 0, 0,\n",
       "       0, 0, 0, 0, 0, 0, 0, 0, 1, 0, 1, 0, 0, 1, 1, 0, 0, 0, 0, 0, 1, 1,\n",
       "       0, 1, 1, 0, 0, 0, 1, 1, 0, 0, 1, 0, 0, 1, 0, 0, 1, 0, 0, 0, 1, 0,\n",
       "       0, 0, 1, 0, 0, 0, 0, 0, 0, 1, 1, 0, 0, 1, 0, 0, 1, 0, 0, 0, 0, 0,\n",
       "       0, 0, 0, 0, 0, 0, 0, 0, 0, 1, 1, 0, 0, 0, 0, 0, 0, 0, 1, 0, 1, 0,\n",
       "       0, 0, 0, 0, 0, 1, 0, 0, 0, 1, 1, 0, 0, 0, 0, 1])"
      ]
     },
     "execution_count": 18,
     "metadata": {},
     "output_type": "execute_result"
    }
   ],
   "source": [
    "y_pred_knn = knn.predict(X_test_std)\n",
    "y_pred_knn"
   ]
  },
  {
   "cell_type": "markdown",
   "id": "883d0005",
   "metadata": {
    "papermill": {
     "duration": 0.055746,
     "end_time": "2022-04-20T12:53:02.713128",
     "exception": false,
     "start_time": "2022-04-20T12:53:02.657382",
     "status": "completed"
    },
    "tags": []
   },
   "source": [
    "Here, we are passing a sample set of values to test over the trained model which was trained in the above statement on the basis of training dataset and the targetted column"
   ]
  },
  {
   "cell_type": "code",
   "execution_count": 19,
   "id": "358b8943",
   "metadata": {
    "execution": {
     "iopub.execute_input": "2022-04-20T12:53:02.827764Z",
     "iopub.status.busy": "2022-04-20T12:53:02.827233Z",
     "iopub.status.idle": "2022-04-20T12:53:02.836041Z",
     "shell.execute_reply": "2022-04-20T12:53:02.835138Z"
    },
    "papermill": {
     "duration": 0.069096,
     "end_time": "2022-04-20T12:53:02.838543",
     "exception": false,
     "start_time": "2022-04-20T12:53:02.769447",
     "status": "completed"
    },
    "tags": []
   },
   "outputs": [
    {
     "name": "stdout",
     "output_type": "stream",
     "text": [
      "[[122  16]\n",
      " [ 25  29]]\n",
      "0.7864583333333334\n"
     ]
    }
   ],
   "source": [
    "knn_cm = confusion_matrix(y_test, y_pred_knn)\n",
    "print(knn_cm)\n",
    "knn_accuracy = accuracy_score(y_test, y_pred_knn)\n",
    "print(knn_accuracy)"
   ]
  },
  {
   "cell_type": "markdown",
   "id": "6ef3cea3",
   "metadata": {
    "papermill": {
     "duration": 0.055933,
     "end_time": "2022-04-20T12:53:02.951933",
     "exception": false,
     "start_time": "2022-04-20T12:53:02.896000",
     "status": "completed"
    },
    "tags": []
   },
   "source": [
    "Here, we have checked the accuracy the model."
   ]
  },
  {
   "cell_type": "code",
   "execution_count": 20,
   "id": "92874d14",
   "metadata": {
    "execution": {
     "iopub.execute_input": "2022-04-20T12:53:03.067176Z",
     "iopub.status.busy": "2022-04-20T12:53:03.066851Z",
     "iopub.status.idle": "2022-04-20T12:53:03.113225Z",
     "shell.execute_reply": "2022-04-20T12:53:03.112224Z"
    },
    "papermill": {
     "duration": 0.107124,
     "end_time": "2022-04-20T12:53:03.115529",
     "exception": false,
     "start_time": "2022-04-20T12:53:03.008405",
     "status": "completed"
    },
    "tags": []
   },
   "outputs": [
    {
     "name": "stdout",
     "output_type": "stream",
     "text": [
      "Accuracy on training set: 0.778\n",
      "Accuracy on test set: 0.786\n"
     ]
    }
   ],
   "source": [
    "print(\"Accuracy on training set: {:.3f}\".format(knn.score(X_train_std, y_train)))\n",
    "print(\"Accuracy on test set: {:.3f}\".format(knn.score(X_test_std, y_test)))"
   ]
  },
  {
   "cell_type": "markdown",
   "id": "26e85a51",
   "metadata": {
    "papermill": {
     "duration": 0.056706,
     "end_time": "2022-04-20T12:53:03.229413",
     "exception": false,
     "start_time": "2022-04-20T12:53:03.172707",
     "status": "completed"
    },
    "tags": []
   },
   "source": [
    "In KNN, we need to choose the number of neighbours to be considered, so the following for loop gives the accuracy of the number of neighbours specified between given digits."
   ]
  },
  {
   "cell_type": "code",
   "execution_count": 21,
   "id": "0686cd5b",
   "metadata": {
    "execution": {
     "iopub.execute_input": "2022-04-20T12:53:03.345197Z",
     "iopub.status.busy": "2022-04-20T12:53:03.344532Z",
     "iopub.status.idle": "2022-04-20T12:53:04.343839Z",
     "shell.execute_reply": "2022-04-20T12:53:04.342797Z"
    },
    "papermill": {
     "duration": 1.059852,
     "end_time": "2022-04-20T12:53:04.346043",
     "exception": false,
     "start_time": "2022-04-20T12:53:03.286191",
     "status": "completed"
    },
    "tags": []
   },
   "outputs": [
    {
     "name": "stdout",
     "output_type": "stream",
     "text": [
      "[1.0, 0.8385416666666666, 0.859375, 0.8138020833333334, 0.8033854166666666, 0.7825520833333334, 0.7838541666666666, 0.78515625, 0.7877604166666666, 0.77734375, 0.7864583333333334, 0.7721354166666666, 0.7838541666666666, 0.7799479166666666, 0.7903645833333334, 0.7760416666666666, 0.7838541666666666, 0.7825520833333334, 0.7903645833333334, 0.7877604166666666, 0.7903645833333334, 0.78515625, 0.7864583333333334, 0.7825520833333334, 0.7747395833333334, 0.7786458333333334, 0.77734375, 0.7682291666666666, 0.7682291666666666] "
     ]
    }
   ],
   "source": [
    "# this loop will tell us which k value is giving us best accuracy.\n",
    "scores = []\n",
    "for k in range(1,30):\n",
    "    knn = KNeighborsClassifier(k).fit(x, y)\n",
    "    scores.append(knn.score(x, y))\n",
    "\n",
    "print(scores, end = \" \")"
   ]
  },
  {
   "cell_type": "markdown",
   "id": "1e216622",
   "metadata": {
    "papermill": {
     "duration": 0.058365,
     "end_time": "2022-04-20T12:53:04.461737",
     "exception": false,
     "start_time": "2022-04-20T12:53:04.403372",
     "status": "completed"
    },
    "tags": []
   },
   "source": [
    "The following graphs is of the scores, so looking at the graph, we consider the point from where the graphline has started declining, i.e. 3"
   ]
  },
  {
   "cell_type": "code",
   "execution_count": 22,
   "id": "59f7decd",
   "metadata": {
    "execution": {
     "iopub.execute_input": "2022-04-20T12:53:04.580592Z",
     "iopub.status.busy": "2022-04-20T12:53:04.579962Z",
     "iopub.status.idle": "2022-04-20T12:53:04.745907Z",
     "shell.execute_reply": "2022-04-20T12:53:04.744297Z"
    },
    "papermill": {
     "duration": 0.229161,
     "end_time": "2022-04-20T12:53:04.748680",
     "exception": false,
     "start_time": "2022-04-20T12:53:04.519519",
     "status": "completed"
    },
    "tags": []
   },
   "outputs": [
    {
     "data": {
      "image/png": "[encoded data removed]",
      "text/plain": [
       "<Figure size 432x288 with 1 Axes>"
      ]
     },
     "metadata": {
      "needs_background": "light"
     },
     "output_type": "display_data"
    }
   ],
   "source": [
    "plt.plot(np.arange(1,30), scores);"
   ]
  },
  {
   "cell_type": "markdown",
   "id": "17298f52",
   "metadata": {
    "papermill": {
     "duration": 0.06219,
     "end_time": "2022-04-20T12:53:04.869869",
     "exception": false,
     "start_time": "2022-04-20T12:53:04.807679",
     "status": "completed"
    },
    "tags": []
   },
   "source": [
    "Now, with the assured assumptions, we train the final model using manhattan tech"
   ]
  },
  {
   "cell_type": "markdown",
   "id": "f6e08e96",
   "metadata": {
    "papermill": {
     "duration": 0.060753,
     "end_time": "2022-04-20T12:53:04.990931",
     "exception": false,
     "start_time": "2022-04-20T12:53:04.930178",
     "status": "completed"
    },
    "tags": []
   },
   "source": [
    "Now using SVM, we have predicted the outcome.\n",
    "Here, we have splitted the dataset into training data and the targetted column"
   ]
  },
  {
   "cell_type": "code",
   "execution_count": 23,
   "id": "9df8b805",
   "metadata": {
    "execution": {
     "iopub.execute_input": "2022-04-20T12:53:05.110321Z",
     "iopub.status.busy": "2022-04-20T12:53:05.109941Z",
     "iopub.status.idle": "2022-04-20T12:53:05.116360Z",
     "shell.execute_reply": "2022-04-20T12:53:05.114758Z"
    },
    "papermill": {
     "duration": 0.068884,
     "end_time": "2022-04-20T12:53:05.118694",
     "exception": false,
     "start_time": "2022-04-20T12:53:05.049810",
     "status": "completed"
    },
    "tags": []
   },
   "outputs": [],
   "source": [
    "x_1 = diab.drop('Outcome',axis=1)\n",
    "y_1 = diab['Outcome']"
   ]
  },
  {
   "cell_type": "code",
   "execution_count": 24,
   "id": "e76ba558",
   "metadata": {
    "execution": {
     "iopub.execute_input": "2022-04-20T12:53:05.238694Z",
     "iopub.status.busy": "2022-04-20T12:53:05.238411Z",
     "iopub.status.idle": "2022-04-20T12:53:05.244289Z",
     "shell.execute_reply": "2022-04-20T12:53:05.243320Z"
    },
    "papermill": {
     "duration": 0.067421,
     "end_time": "2022-04-20T12:53:05.246383",
     "exception": false,
     "start_time": "2022-04-20T12:53:05.178962",
     "status": "completed"
    },
    "tags": []
   },
   "outputs": [
    {
     "data": {
      "text/plain": [
       "((768, 8), (768,))"
      ]
     },
     "execution_count": 24,
     "metadata": {},
     "output_type": "execute_result"
    }
   ],
   "source": [
    "x_1.shape, y_1.shape"
   ]
  },
  {
   "cell_type": "markdown",
   "id": "b979309c",
   "metadata": {
    "papermill": {
     "duration": 0.057923,
     "end_time": "2022-04-20T12:53:05.362952",
     "exception": false,
     "start_time": "2022-04-20T12:53:05.305029",
     "status": "completed"
    },
    "tags": []
   },
   "source": [
    "As we are using SVM model, we split the training dataset into small parts, one part for training and one part for testing the model."
   ]
  },
  {
   "cell_type": "code",
   "execution_count": 25,
   "id": "7bdbb742",
   "metadata": {
    "execution": {
     "iopub.execute_input": "2022-04-20T12:53:05.484684Z",
     "iopub.status.busy": "2022-04-20T12:53:05.484359Z",
     "iopub.status.idle": "2022-04-20T12:53:05.490582Z",
     "shell.execute_reply": "2022-04-20T12:53:05.489841Z"
    },
    "papermill": {
     "duration": 0.068797,
     "end_time": "2022-04-20T12:53:05.492673",
     "exception": false,
     "start_time": "2022-04-20T12:53:05.423876",
     "status": "completed"
    },
    "tags": []
   },
   "outputs": [],
   "source": [
    "# dividing our data\n",
    "X_train, X_test, y_train, y_test = train_test_split(x_1,y_1) "
   ]
  },
  {
   "cell_type": "code",
   "execution_count": 26,
   "id": "d44904e7",
   "metadata": {
    "execution": {
     "iopub.execute_input": "2022-04-20T12:53:05.611089Z",
     "iopub.status.busy": "2022-04-20T12:53:05.610458Z",
     "iopub.status.idle": "2022-04-20T12:53:05.619718Z",
     "shell.execute_reply": "2022-04-20T12:53:05.619134Z"
    },
    "papermill": {
     "duration": 0.070461,
     "end_time": "2022-04-20T12:53:05.621806",
     "exception": false,
     "start_time": "2022-04-20T12:53:05.551345",
     "status": "completed"
    },
    "tags": []
   },
   "outputs": [],
   "source": [
    "sc = StandardScaler()\n",
    "X_train_std = sc.fit_transform(X_train)\n",
    "X_test_std = sc.transform(X_test)"
   ]
  },
  {
   "cell_type": "code",
   "execution_count": 27,
   "id": "8fbce3b8",
   "metadata": {
    "execution": {
     "iopub.execute_input": "2022-04-20T12:53:05.739099Z",
     "iopub.status.busy": "2022-04-20T12:53:05.738527Z",
     "iopub.status.idle": "2022-04-20T12:53:05.757200Z",
     "shell.execute_reply": "2022-04-20T12:53:05.756410Z"
    },
    "papermill": {
     "duration": 0.079625,
     "end_time": "2022-04-20T12:53:05.759178",
     "exception": false,
     "start_time": "2022-04-20T12:53:05.679553",
     "status": "completed"
    },
    "tags": []
   },
   "outputs": [
    {
     "data": {
      "text/plain": [
       "SVC(C=0.9)"
      ]
     },
     "execution_count": 27,
     "metadata": {},
     "output_type": "execute_result"
    }
   ],
   "source": [
    "svc = SVC(C=0.9) # No hyperparameter given means it will use default values (i.e. - C = 1.0 and kernel = 'rbf')\n",
    "svc.fit(X_train_std, y_train)"
   ]
  },
  {
   "cell_type": "markdown",
   "id": "d3de7e68",
   "metadata": {
    "papermill": {
     "duration": 0.057737,
     "end_time": "2022-04-20T12:53:05.876511",
     "exception": false,
     "start_time": "2022-04-20T12:53:05.818774",
     "status": "completed"
    },
    "tags": []
   },
   "source": [
    "The accuracy of the model is shown below"
   ]
  },
  {
   "cell_type": "code",
   "execution_count": 28,
   "id": "579d52a2",
   "metadata": {
    "execution": {
     "iopub.execute_input": "2022-04-20T12:53:05.995877Z",
     "iopub.status.busy": "2022-04-20T12:53:05.995560Z",
     "iopub.status.idle": "2022-04-20T12:53:06.005558Z",
     "shell.execute_reply": "2022-04-20T12:53:06.004982Z"
    },
    "papermill": {
     "duration": 0.072788,
     "end_time": "2022-04-20T12:53:06.007392",
     "exception": false,
     "start_time": "2022-04-20T12:53:05.934604",
     "status": "completed"
    },
    "tags": []
   },
   "outputs": [
    {
     "data": {
      "text/plain": [
       "array([0, 0, 1, 0, 1, 0, 0, 0, 0, 0, 1, 0, 0, 0, 1, 1, 0, 0, 0, 0, 0, 1,\n",
       "       1, 1, 0, 1, 0, 1, 0, 0, 1, 0, 1, 1, 0, 0, 1, 0, 0, 0, 0, 0, 0, 0,\n",
       "       1, 1, 0, 0, 1, 1, 0, 0, 1, 1, 0, 0, 0, 1, 0, 0, 0, 0, 0, 1, 0, 0,\n",
       "       0, 1, 0, 0, 1, 0, 1, 0, 1, 0, 0, 0, 1, 0, 0, 0, 0, 0, 1, 1, 0, 0,\n",
       "       0, 0, 0, 0, 1, 1, 1, 0, 1, 0, 0, 0, 0, 0, 0, 0, 0, 0, 1, 0, 1, 0,\n",
       "       0, 0, 0, 0, 0, 0, 0, 0, 1, 0, 0, 0, 0, 0, 0, 0, 0, 1, 1, 0, 0, 0,\n",
       "       1, 0, 0, 1, 0, 0, 1, 0, 0, 0, 0, 0, 1, 0, 0, 1, 0, 0, 0, 0, 1, 0,\n",
       "       0, 0, 0, 0, 0, 0, 1, 0, 0, 0, 0, 0, 0, 1, 0, 0, 0, 1, 0, 1, 0, 0,\n",
       "       0, 0, 1, 1, 0, 0, 0, 0, 0, 0, 0, 0, 1, 0, 1, 0])"
      ]
     },
     "execution_count": 28,
     "metadata": {},
     "output_type": "execute_result"
    }
   ],
   "source": [
    "y_pred_svc = svc.predict(X_test_std)\n",
    "y_pred_svc"
   ]
  },
  {
   "cell_type": "code",
   "execution_count": 29,
   "id": "8fc68359",
   "metadata": {
    "execution": {
     "iopub.execute_input": "2022-04-20T12:53:06.126883Z",
     "iopub.status.busy": "2022-04-20T12:53:06.126370Z",
     "iopub.status.idle": "2022-04-20T12:53:06.132374Z",
     "shell.execute_reply": "2022-04-20T12:53:06.131842Z"
    },
    "papermill": {
     "duration": 0.068148,
     "end_time": "2022-04-20T12:53:06.134603",
     "exception": false,
     "start_time": "2022-04-20T12:53:06.066455",
     "status": "completed"
    },
    "tags": []
   },
   "outputs": [
    {
     "name": "stdout",
     "output_type": "stream",
     "text": [
      "[[114  13]\n",
      " [ 26  39]]\n",
      "0.796875\n"
     ]
    }
   ],
   "source": [
    "svc_cm = confusion_matrix(y_test, y_pred_svc)\n",
    "print(svc_cm)\n",
    "svc_accuracy = accuracy_score(y_test, y_pred_svc)\n",
    "print(svc_accuracy)"
   ]
  },
  {
   "cell_type": "code",
   "execution_count": 30,
   "id": "a6b64ee4",
   "metadata": {
    "execution": {
     "iopub.execute_input": "2022-04-20T12:53:06.259958Z",
     "iopub.status.busy": "2022-04-20T12:53:06.259438Z",
     "iopub.status.idle": "2022-04-20T12:53:06.281378Z",
     "shell.execute_reply": "2022-04-20T12:53:06.280616Z"
    },
    "papermill": {
     "duration": 0.088655,
     "end_time": "2022-04-20T12:53:06.283340",
     "exception": false,
     "start_time": "2022-04-20T12:53:06.194685",
     "status": "completed"
    },
    "tags": []
   },
   "outputs": [
    {
     "name": "stdout",
     "output_type": "stream",
     "text": [
      "Accuracy on training set: 0.823\n",
      "Accuracy on test set: 0.797\n"
     ]
    }
   ],
   "source": [
    "print(\"Accuracy on training set: {:.3f}\".format(svc.score(X_train_std, y_train)))\n",
    "print(\"Accuracy on test set: {:.3f}\".format(svc.score(X_test_std, y_test)))"
   ]
  },
  {
   "cell_type": "markdown",
   "id": "af0f2dcb",
   "metadata": {
    "papermill": {
     "duration": 0.059288,
     "end_time": "2022-04-20T12:53:06.403329",
     "exception": false,
     "start_time": "2022-04-20T12:53:06.344041",
     "status": "completed"
    },
    "tags": []
   },
   "source": [
    "We can see that KNN gives more accuracy than the SVM."
   ]
  },
  {
   "cell_type": "markdown",
   "id": "6bbcc20c",
   "metadata": {
    "papermill": {
     "duration": 0.060318,
     "end_time": "2022-04-20T12:53:06.525089",
     "exception": false,
     "start_time": "2022-04-20T12:53:06.464771",
     "status": "completed"
    },
    "tags": []
   },
   "source": [
    "Comparing Accuracy for KNN and SVM algorithms"
   ]
  },
  {
   "cell_type": "code",
   "execution_count": 31,
   "id": "104b4791",
   "metadata": {
    "execution": {
     "iopub.execute_input": "2022-04-20T12:53:06.648384Z",
     "iopub.status.busy": "2022-04-20T12:53:06.647491Z",
     "iopub.status.idle": "2022-04-20T12:53:06.651623Z",
     "shell.execute_reply": "2022-04-20T12:53:06.651034Z"
    },
    "papermill": {
     "duration": 0.069757,
     "end_time": "2022-04-20T12:53:06.654233",
     "exception": false,
     "start_time": "2022-04-20T12:53:06.584476",
     "status": "completed"
    },
    "tags": []
   },
   "outputs": [],
   "source": [
    "algorithms=['KNN','SVM']\n",
    "scores=[knn_accuracy,svc_accuracy]"
   ]
  },
  {
   "cell_type": "code",
   "execution_count": 32,
   "id": "8e899e57",
   "metadata": {
    "execution": {
     "iopub.execute_input": "2022-04-20T12:53:06.777934Z",
     "iopub.status.busy": "2022-04-20T12:53:06.777400Z",
     "iopub.status.idle": "2022-04-20T12:53:07.066244Z",
     "shell.execute_reply": "2022-04-20T12:53:07.065411Z"
    },
    "papermill": {
     "duration": 0.352237,
     "end_time": "2022-04-20T12:53:07.068683",
     "exception": false,
     "start_time": "2022-04-20T12:53:06.716446",
     "status": "completed"
    },
    "tags": []
   },
   "outputs": [
    {
     "data": {
      "text/plain": [
       "<BarContainer object of 2 artists>"
      ]
     },
     "execution_count": 32,
     "metadata": {},
     "output_type": "execute_result"
    },
    {
     "data": {
      "image/png": "[encoded data removed]",
      "text/plain": [
       "<Figure size 432x288 with 1 Axes>"
      ]
     },
     "metadata": {
      "needs_background": "light"
     },
     "output_type": "display_data"
    }
   ],
   "source": [
    "# sns.set(rc={'figure.figsize':(10,5)})\n",
    "# sns.l(x=algorithms,y=scores)\n",
    "plt.bar(algorithms, scores)\n"
   ]
  },
  {
   "cell_type": "code",
   "execution_count": null,
   "id": "2a983d42",
   "metadata": {
    "papermill": {
     "duration": 0.062903,
     "end_time": "2022-04-20T12:53:07.204351",
     "exception": false,
     "start_time": "2022-04-20T12:53:07.141448",
     "status": "completed"
    },
    "tags": []
   },
   "outputs": [],
   "source": []
  }
 ],
 "metadata": {
  "kernelspec": {
   "display_name": "Python 3",
   "language": "python",
   "name": "python3"
  },
  "language_info": {
   "codemirror_mode": {
    "name": "ipython",
    "version": 3
   },
   "file_extension": ".py",
   "mimetype": "text/x-python",
   "name": "python",
   "nbconvert_exporter": "python",
   "pygments_lexer": "ipython3",
   "version": "3.7.12"
  },
  "papermill": {
   "default_parameters": {},
   "duration": 21.369196,
   "end_time": "2022-04-20T12:53:08.089101",
   "environment_variables": {},
   "exception": null,
   "input_path": "__notebook__.ipynb",
   "output_path": "__notebook__.ipynb",
   "parameters": {},
   "start_time": "2022-04-20T12:52:46.719905",
   "version": "2.3.4"
  }
 },
 "nbformat": 4,
 "nbformat_minor": 5
}
